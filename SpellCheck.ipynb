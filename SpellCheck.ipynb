{
 "cells": [
  {
   "cell_type": "code",
   "execution_count": 49,
   "id": "e41004d2",
   "metadata": {},
   "outputs": [],
   "source": [
    "import nltk \n",
    "from nltk.metrics.distance import jaccard_distance \n",
    "from nltk.util import ngrams"
   ]
  },
  {
   "cell_type": "code",
   "execution_count": 50,
   "id": "f1e164ce",
   "metadata": {},
   "outputs": [
    {
     "name": "stderr",
     "output_type": "stream",
     "text": [
      "[nltk_data] Downloading package words to\n",
      "[nltk_data]     C:\\Users\\anees\\AppData\\Roaming\\nltk_data...\n",
      "[nltk_data]   Package words is already up-to-date!\n"
     ]
    }
   ],
   "source": [
    "nltk.download('words') \n",
    "from nltk.corpus import words \n",
    "  \n",
    "wordNet=words.words()"
   ]
  },
  {
   "cell_type": "markdown",
   "id": "a89d26e3",
   "metadata": {},
   "source": [
    "Spelling Check"
   ]
  },
  {
   "cell_type": "code",
   "execution_count": 79,
   "id": "fb3589fa",
   "metadata": {},
   "outputs": [
    {
     "name": "stdout",
     "output_type": "stream",
     "text": [
      "['absolute', 'fanatic', 'trampoline']\n"
     ]
    }
   ],
   "source": [
    "incorrect_words=[\"abolute\", 'fantsatic', 'trapoline'] \n",
    "correct_words=[]\n",
    "for word in incorrect_words: \n",
    "    temp = [(jaccard_distance(set(ngrams(word, 2)), \n",
    "                              set(ngrams(w, 2))),w) \n",
    "            for w in wordNet if w[0]==word[0]] \n",
    "    correct_words.append(sorted(temp, key = lambda val:val[0])[0][1])\n",
    "print(correct_words)"
   ]
  },
  {
   "cell_type": "markdown",
   "id": "723d04dd",
   "metadata": {},
   "source": [
    "#Giving definition for word"
   ]
  },
  {
   "cell_type": "code",
   "execution_count": 80,
   "id": "da26eaec",
   "metadata": {},
   "outputs": [],
   "source": [
    "from nltk.corpus import wordnet"
   ]
  },
  {
   "cell_type": "code",
   "execution_count": 81,
   "id": "1eb056a4",
   "metadata": {},
   "outputs": [
    {
     "name": "stderr",
     "output_type": "stream",
     "text": [
      "[nltk_data] Downloading package wordnet to\n",
      "[nltk_data]     C:\\Users\\anees\\AppData\\Roaming\\nltk_data...\n",
      "[nltk_data]   Package wordnet is already up-to-date!\n"
     ]
    },
    {
     "data": {
      "text/plain": [
       "True"
      ]
     },
     "execution_count": 81,
     "metadata": {},
     "output_type": "execute_result"
    }
   ],
   "source": [
    "import nltk\n",
    "nltk.download('wordnet')"
   ]
  },
  {
   "cell_type": "code",
   "execution_count": 82,
   "id": "9cf72289",
   "metadata": {},
   "outputs": [
    {
     "name": "stderr",
     "output_type": "stream",
     "text": [
      "[nltk_data] Downloading package omw-1.4 to\n",
      "[nltk_data]     C:\\Users\\anees\\AppData\\Roaming\\nltk_data...\n",
      "[nltk_data]   Package omw-1.4 is already up-to-date!\n"
     ]
    },
    {
     "data": {
      "text/plain": [
       "True"
      ]
     },
     "execution_count": 82,
     "metadata": {},
     "output_type": "execute_result"
    }
   ],
   "source": [
    " nltk.download('omw-1.4')"
   ]
  },
  {
   "cell_type": "code",
   "execution_count": 83,
   "id": "c36e096e",
   "metadata": {},
   "outputs": [
    {
     "data": {
      "text/plain": [
       "['absolute', 'fanatic', 'trampoline']"
      ]
     },
     "execution_count": 83,
     "metadata": {},
     "output_type": "execute_result"
    }
   ],
   "source": [
    "correct_words"
   ]
  },
  {
   "cell_type": "code",
   "execution_count": 86,
   "id": "b582dc44",
   "metadata": {},
   "outputs": [
    {
     "name": "stdout",
     "output_type": "stream",
     "text": [
      "absolute meaning: something that is conceived or that exists independently and not in relation to other things; something that does not depend on anything else and is beyond human control; something that is not relative \n",
      "\n",
      "fanatic meaning: a person motivated by irrational enthusiasm (as for a cause); --Winston Churchill \n",
      "\n",
      "trampoline meaning: gymnastic apparatus consisting of a strong canvas sheet attached with springs to a metal frame; used for tumbling \n",
      "\n"
     ]
    }
   ],
   "source": [
    "from nltk.corpus import wordnet\n",
    "\n",
    "for word in correct_words:\n",
    "    defn=wordnet.synsets(word)[0]\n",
    "    print(word,\"meaning:\",defn.definition(),'\\n')"
   ]
  },
  {
   "cell_type": "code",
   "execution_count": null,
   "id": "8290649c",
   "metadata": {},
   "outputs": [],
   "source": []
  }
 ],
 "metadata": {
  "kernelspec": {
   "display_name": "Python 3 (ipykernel)",
   "language": "python",
   "name": "python3"
  },
  "language_info": {
   "codemirror_mode": {
    "name": "ipython",
    "version": 3
   },
   "file_extension": ".py",
   "mimetype": "text/x-python",
   "name": "python",
   "nbconvert_exporter": "python",
   "pygments_lexer": "ipython3",
   "version": "3.10.9"
  }
 },
 "nbformat": 4,
 "nbformat_minor": 5
}
